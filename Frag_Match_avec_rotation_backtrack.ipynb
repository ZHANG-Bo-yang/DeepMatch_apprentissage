{
 "cells": [
  {
   "cell_type": "code",
   "execution_count": 1,
   "metadata": {},
   "outputs": [],
   "source": [
    "import torch\n",
    "from torch.autograd import Variable\n",
    "import torch.nn as nn\n",
    "import torch.nn.functional as F\n",
    "import cv2\n",
    "import matplotlib.pyplot as plt\n",
    "import numpy as np\n",
    "import random\n",
    "import math\n",
    "import pickle\n",
    "import random\n",
    "from PIL import Image\n",
    "from math import *"
   ]
  },
  {
   "cell_type": "code",
   "execution_count": 2,
   "metadata": {},
   "outputs": [],
   "source": [
    "def tensor_imshow(im_tensor,cannel):\n",
    "    b,c,h,w=im_tensor.shape\n",
    "    if c==1:\n",
    "        plt.imshow(im_tensor.squeeze().detach().numpy())\n",
    "    else:\n",
    "        plt.imshow(im_tensor.squeeze().detach().numpy()[cannel,:])\n",
    "        \n",
    "def get_training_fragment(frag_size,im):\n",
    "    h,w,c=im.shape\n",
    "    n=random.randint(0,int(h/frag_size)-1)\n",
    "    m=random.randint(0,int(w/frag_size)-1)\n",
    "    \n",
    "    shape=frag_size/4\n",
    "    vt_h=math.ceil((h+1)/shape)\n",
    "    vt_w=math.ceil((w+1)/shape)\n",
    "    vt=np.zeros([vt_h,vt_w])\n",
    "    vt_h_po=round((vt_h-1)*(n*frag_size/(h-1)+(n+1)*frag_size/(h-1))/2)\n",
    "    vt_w_po=round((vt_w-1)*(m*frag_size/(w-1)+(m+1)*frag_size/(w-1))/2)\n",
    "    vt[vt_h_po,vt_w_po]=1\n",
    "    vt = np.float32(vt)\n",
    "    vt=torch.from_numpy(vt.reshape(1,1,vt_h,vt_w))\n",
    "    \n",
    "    return im[n*frag_size:(n+1)*frag_size,m*frag_size:(m+1)*frag_size,:],vt\n",
    "\n",
    "def write_result_in_file(result,file_name):\n",
    "    n=0\n",
    "    with open(filename,'w') as file:\n",
    "        for i in range(len(result)):\n",
    "            while n<result[i][0]:\n",
    "                s=str(n)\n",
    "                n=n+1\n",
    "                s=s+\"\\n\"\n",
    "                file.write(s)\n",
    "            s=str(result[i][0])+\" \"+str(result[i][1])+\" \"+str(result[i][2])+\" \"+str(result[i][3])\n",
    "            s=s+\"\\n\"\n",
    "            n=n+1\n",
    "            file.write(s)\n",
    "        file.close()\n",
    "    \n",
    "    \n",
    "def img2tensor(im):\n",
    "    im=np.array(im,dtype=\"float32\")\n",
    "    tensor_cv = torch.from_numpy(np.transpose(im, (2, 0, 1)))\n",
    "    im_tensor=tensor_cv.unsqueeze(0)\n",
    "    return im_tensor\n",
    "\n",
    "def show_coordonnee(position_pred):\n",
    "    map_corre=position_pred.squeeze().detach().numpy()\n",
    "    score=sum(sum(map_corre))\n",
    "    h,w=map_corre.shape\n",
    "    max_value=map_corre.max()\n",
    "    coordonnee=np.where(map_corre==max_value)\n",
    "    return score,coordonnee[0].mean()/h,coordonnee[1].mean()/w\n",
    "    \"\"\"\n",
    "    if len(coordonnee[0])==1:\n",
    "        h_=coordonnee[0][0]/h\n",
    "        w_=coordonnee[1][0]/w\n",
    "        return max_value,h_,w_\n",
    "    else:\n",
    "        return -1,-1,-1\n",
    "    \"\"\"\n",
    "def show_coordonnee_2(position_pred):\n",
    "    max_value=position_pred.max()\n",
    "    coordonnee=np.where(position_pred==max_value)\n",
    "    return int(coordonnee[0].mean()),int(coordonnee[1].mean())\n",
    "\n",
    "def test_fragment32_32(frag,seuillage):\n",
    "    a=frag[:,:,0]+frag[:,:,1]+frag[:,:,2]\n",
    "    mask = (a == 0)\n",
    "    arr_new = a[mask]\n",
    "    if arr_new.size/a.size<=(1-seuillage):\n",
    "        return True\n",
    "    else:\n",
    "        return False\n",
    "    \n",
    "def patch_rotated_mask(frag_size):\n",
    "    Mask=np.ones([frag_size,frag_size,3],dtype='uint8')\n",
    "    Im_Mask=Image.fromarray(Mask)\n",
    "    for i in range(18):\n",
    "        Im=Im_Mask.rotate(20*i)\n",
    "        m=np.array(Im)\n",
    "        Mask=Mask*m\n",
    "    return Mask\n",
    "\n",
    "def save_net(file_path,net):\n",
    "    pkl_file = open(file_path, 'wb')\n",
    "    pickle.dump(net,pkl_file)\n",
    "    pkl_file.close()\n",
    "    \n",
    "def load_net(file_path):   \n",
    "    pkl_file = open(file_path, 'rb')\n",
    "    net= pickle.load(pkl_file)\n",
    "    pkl_file.close()\n",
    "    return net"
   ]
  },
  {
   "cell_type": "code",
   "execution_count": 63,
   "metadata": {},
   "outputs": [],
   "source": [
    "def ini():\n",
    "    kernel=torch.zeros([8,3,3,3])\n",
    "    array_0=np.array([[1,2,1],[0,0,0],[-1,-2,-1]],dtype='float32')\n",
    "    array_1=np.array([[2,1,0],[1,0,-1],[0,-1,-2]],dtype='float32')\n",
    "    array_2=np.array([[1,0,-1],[2,0,-2],[1,0,-1]],dtype='float32')\n",
    "    array_3=np.array([[0,-1,-2],[1,0,-1],[2,1,0]],dtype='float32')\n",
    "    array_4=np.array([[-1,-2,-1],[0,0,0],[1,2,1]],dtype='float32')\n",
    "    array_5=np.array([[-2,-1,0],[-1,0,1],[0,1,2]],dtype='float32')\n",
    "    array_6=np.array([[-1,0,1],[-2,0,2],[-1,0,1]],dtype='float32')\n",
    "    array_7=np.array([[0,1,2],[-1,0,1],[-2,-1,0]],dtype='float32')\n",
    "    for i in range(3):\n",
    "        kernel[0,i,:]=torch.from_numpy(array_0)\n",
    "        kernel[1,i,:]=torch.from_numpy(array_1)\n",
    "        kernel[2,i,:]=torch.from_numpy(array_2)\n",
    "        kernel[3,i,:]=torch.from_numpy(array_3)\n",
    "        kernel[4,i,:]=torch.from_numpy(array_4)\n",
    "        kernel[5,i,:]=torch.from_numpy(array_5)\n",
    "        kernel[6,i,:]=torch.from_numpy(array_6)\n",
    "        kernel[7,i,:]=torch.from_numpy(array_7)\n",
    "    return torch.nn.Parameter(kernel,requires_grad=True) \n",
    "\n",
    "def kernel_add_ini(n,m):\n",
    "    input_canal=int(n*m)\n",
    "    output_canal=int(n/2)*int(m/2)\n",
    "    for i in range(int(n/2)):\n",
    "        for j in range(int(m/2)):\n",
    "            kernel_add=np.zeros([1,input_canal],dtype='float32')\n",
    "            kernel_add[0,i*2*m+j*2]=1\n",
    "            kernel_add[0,i*2*m+j*2+1]=1\n",
    "            kernel_add[0,(i*2+1)*m+j*2]=1\n",
    "            kernel_add[0,(i*2+1)*m+j*2+1]=1\n",
    "            if i==0 and j==0:\n",
    "                add=torch.from_numpy(kernel_add.reshape(1,input_canal,1,1))\n",
    "            else:\n",
    "                add_=torch.from_numpy(kernel_add.reshape(1,input_canal,1,1))\n",
    "                add=torch.cat((add,add_),0)\n",
    "    return torch.nn.Parameter(add,requires_grad=False) \n",
    "\n",
    "def kernel_shift_ini(n,m):\n",
    "    input_canal=int(n*m)\n",
    "    output_canal=int(n*m)\n",
    "    \n",
    "    kernel_shift=torch.zeros([output_canal,input_canal,3,3])\n",
    "    \n",
    "    array_0=np.array([[1,0,0],[0,0,0],[0,0,0]],dtype='float32')\n",
    "    array_1=np.array([[0,0,1],[0,0,0],[0,0,0]],dtype='float32')\n",
    "    array_2=np.array([[0,0,0],[0,0,0],[1,0,0]],dtype='float32')\n",
    "    array_3=np.array([[0,0,0],[0,0,0],[0,0,1]],dtype='float32')\n",
    "    \n",
    "    kernel_shift_0=torch.from_numpy(array_0)\n",
    "    kernel_shift_1=torch.from_numpy(array_1)\n",
    "    kernel_shift_2=torch.from_numpy(array_2)\n",
    "    kernel_shift_3=torch.from_numpy(array_3)\n",
    "    \n",
    "    \n",
    "    for i in range(n):\n",
    "        for j in range(m):\n",
    "            if i==0 and j==0:\n",
    "                kernel_shift[0,0,:]=kernel_shift_0\n",
    "            else:\n",
    "                if i%2==0 and j%2==0:\n",
    "                    kernel_shift[i*m+j,i*m+j,:]=kernel_shift_0\n",
    "                if i%2==0 and j%2==1:\n",
    "                    kernel_shift[i*m+j,i*m+j,:]=kernel_shift_1\n",
    "                if i%2==1 and j%2==0:\n",
    "                    kernel_shift[i*m+j,i*m+j,:]=kernel_shift_2\n",
    "                if i%2==1 and j%2==1:\n",
    "                    kernel_shift[i*m+j,i*m+j,:]=kernel_shift_3\n",
    "                    \n",
    "    return torch.nn.Parameter(kernel_shift,requires_grad=False) \n",
    "\n",
    "def get_patch(fragment,psize,n,m):\n",
    "    return fragment[:,:,n*psize:(n+1)*psize,m*psize:(m+1)*psize]\n",
    "\n",
    "def shift_1pixel(map_corr,num_patch):\n",
    "    #num_patch:\n",
    "    #          0 1\n",
    "    #          2 3\n",
    "    h,w=map_corr.shape\n",
    "    map_shifted=torch.zeros([h,w])\n",
    "    if num_patch==0:\n",
    "        map_shifted[1:h,1:w]=map_corr[0:h-1,0:w-1]\n",
    "    if num_patch==1:\n",
    "        map_shifted[1:h,0:w-1]=map_corr[0:h-1,1:w]\n",
    "    if num_patch==2:\n",
    "        map_shifted[0:h-1,1:w]=map_corr[1:h,0:w-1]\n",
    "    if num_patch==3:\n",
    "        map_shifted[0:h-1,0:w-1]=map_corr[1:h,1:w]\n",
    "        \n",
    "    return map_shifted\n",
    "\n",
    "def shift_map_corre(n,m,map_corre):\n",
    "    b,c,h,w=map_corre.shape\n",
    "    for i in range(n):\n",
    "        for j in range(m):\n",
    "            if i%2==0 and j%2==0:\n",
    "                map_corre[0,i*m+j,:,:]=shift_1pixel(map_corre[0,i*m+j,:,:],0)\n",
    "            if i%2==0 and j%2==1:\n",
    "                map_corre[0,i*m+j,:,:]=shift_1pixel(map_corre[0,i*m+j,:,:],1)\n",
    "            if i%2==1 and j%2==0:\n",
    "                map_corre[0,i*m+j,:,:]=shift_1pixel(map_corre[0,i*m+j,:,:],2)\n",
    "            if i%2==1 and j%2==1:\n",
    "                map_corre[0,i*m+j,:,:]=shift_1pixel(map_corre[0,i*m+j,:,:],3)\n",
    "    return map_corre\n",
    "\n",
    "class Net(nn.Module):\n",
    "    def __init__(self,frag_size,psize):\n",
    "        super(Net, self).__init__()\n",
    "       \n",
    "        h_fr=frag_size\n",
    "        w_fr=frag_size\n",
    "        \n",
    "        n=int(h_fr/psize) #n*m patches\n",
    "        m=int(w_fr/psize)\n",
    "        \n",
    "        self.conv1 = nn.Conv2d(3,8,kernel_size=3,stride=1,padding=1)\n",
    "        self.conv1.weight=ini()\n",
    "        self.Relu = nn.ReLU(inplace=True)\n",
    "        self.maxpooling=nn.MaxPool2d(3,stride=2, padding=1)\n",
    "        \n",
    "        self.shift1=nn.Conv2d(n*m,n*m,kernel_size=3,stride=1,padding=1)\n",
    "        self.shift1.weight=kernel_shift_ini(n,m)\n",
    "        self.add1 = nn.Conv2d(n*m,int(n/2)*int(m/2),kernel_size=1,stride=1,padding=0)\n",
    "        self.add1.weight=kernel_add_ini(n,m)\n",
    "        \n",
    "        n=int(n/2)\n",
    "        m=int(m/2)\n",
    "        if n>=2 and m>=2:\n",
    "            self.shift2=nn.Conv2d(n*m,n*m,kernel_size=3,stride=1,padding=1)\n",
    "            self.shift2.weight=kernel_shift_ini(n,m)\n",
    "            self.add2 = nn.Conv2d(n*m,int(n/2)*int(m/2),kernel_size=1,stride=1,padding=0)\n",
    "            self.add2.weight=kernel_add_ini(n,m)\n",
    "        \n",
    "        n=int(n/2)\n",
    "        m=int(m/2)\n",
    "        if n>=2 and m>=2:\n",
    "            self.shift3=nn.Conv2d(n*m,n*m,kernel_size=3,stride=1,padding=1)\n",
    "            self.shift3.weight=kernel_shift_ini(n,m)\n",
    "            self.add3 = nn.Conv2d(n*m,int(n/2)*int(m/2),kernel_size=1,stride=1,padding=0)\n",
    "            self.add3.weight=kernel_add_ini(n,m)\n",
    "        \n",
    "        \n",
    "    def get_descripteur(self,img,using_cuda):\n",
    "        descripteur_img=self.Relu(self.conv1(img))\n",
    "        b,c,h,w=descripteur_img.shape\n",
    "        couche_constante=0.5*torch.ones([1,1,h,w])\n",
    "        if using_cuda:\n",
    "            couche_constante=couche_constante.cuda()\n",
    "        descripteur_img=torch.cat((descripteur_img,couche_constante),1)\n",
    "        descripteur_img_norm=descripteur_img/torch.norm(descripteur_img,dim=1)\n",
    "        return descripteur_img_norm\n",
    "    \n",
    "    def forward(self,img,frag,using_cuda):\n",
    "        psize=4\n",
    "        \n",
    "        descripteur_input1=self.get_descripteur(img,using_cuda)\n",
    "        descripteur_input2=self.get_descripteur(frag,using_cuda)\n",
    "        \n",
    "        b,c,h,w=frag.shape\n",
    "        n=int(h/psize)\n",
    "        m=int(w/psize)\n",
    "        \n",
    "        for i in range(n):\n",
    "            for j in range(m):\n",
    "                if i==0 and j==0:\n",
    "                    map_corre=F.conv2d(descripteur_input1,get_patch(descripteur_input2,psize,i,j),padding=2)\n",
    "                else:\n",
    "                    a=F.conv2d(descripteur_input1,get_patch(descripteur_input2,psize,i,j),padding=2)\n",
    "                    map_corre=torch.cat((map_corre,a),1)\n",
    "        map_corre1=map_corre\n",
    "        #shift\n",
    "        \n",
    "        map_corre=self.maxpooling(map_corre)\n",
    "        map_corre=self.shift1(map_corre)\n",
    "        map_corre=self.add1(map_corre)\n",
    "        \n",
    "        map_corre2=map_corre\n",
    "        n=int(n/2)\n",
    "        m=int(m/2)\n",
    "        if n>=2 and m>=2:\n",
    "            map_corre=self.maxpooling(map_corre)\n",
    "            map_corre=self.shift2(map_corre)\n",
    "            map_corre=self.add2(map_corre)\n",
    "        \n",
    "        map_corre3=map_corre\n",
    "        n=int(n/2)\n",
    "        m=int(m/2)\n",
    "        if n>=2 and m>=2:\n",
    "            map_corre=self.maxpooling(map_corre)\n",
    "            map_corre=self.shift3(map_corre)\n",
    "            map_corre=self.add3(map_corre)\n",
    "        \n",
    "        b,c,h,w=map_corre.shape\n",
    "        map_corre=map_corre/(map_corre.max())\n",
    "        return map_corre,map_corre3,map_corre2,map_corre1"
   ]
  },
  {
   "cell_type": "code",
   "execution_count": 4,
   "metadata": {},
   "outputs": [],
   "source": [
    "def get_patch_list(frag,frag_size,limite,seuillage):\n",
    "    n=0\n",
    "    m=0\n",
    "    h,w,c=frag.shape\n",
    "    patch_list=[]\n",
    "    position_list=[]\n",
    "    for i in range(4):\n",
    "        if len(patch_list)>limite and limite!=0:\n",
    "            break\n",
    "        for j in range(4):\n",
    "            if len(patch_list)>limite and limite!=0:\n",
    "                break\n",
    "            n_offset=i*4 # n offset\n",
    "            m_offset=j*4 # m offset\n",
    "            n=0\n",
    "            while n+frag_size+n_offset<h:\n",
    "                m=0\n",
    "                while m+frag_size+m_offset<w:\n",
    "                    patch=frag[n+n_offset:n+frag_size+n_offset,m+m_offset:m+frag_size+m_offset,:]\n",
    "                    if test_fragment32_32(patch,seuillage):\n",
    "                        patch_list.append(patch)\n",
    "                        position_list.append([int((n+frag_size/2)+n_offset),int((m+frag_size/2)+m_offset)])\n",
    "                    m=m+frag_size\n",
    "                n=n+frag_size\n",
    "    return patch_list,position_list"
   ]
  },
  {
   "cell_type": "code",
   "execution_count": 5,
   "metadata": {},
   "outputs": [],
   "source": [
    "def run_net(net,img,frag,frag_size,using_cuda,rotation):\n",
    "    Img=Image.fromarray(frag)\n",
    "    frag=np.array(Img.rotate(rotation))\n",
    "    h,w,c=frag.shape\n",
    "    n=int(h/frag_size)\n",
    "    m=int(w/frag_size)\n",
    "    seuillage=20 #au moin 20 patchs dans les fragments\n",
    "    limite=4\n",
    "    frag_list=[]\n",
    "    position_frag=[]\n",
    "    for i in range(n):\n",
    "        for j in range(m):\n",
    "            frag_32=frag[i*frag_size:(i+1)*frag_size,j*frag_size:(j+1)*frag_size]\n",
    "            if test_fragment32_32(frag_32,0.5):\n",
    "                frag_list.append(frag_32)\n",
    "                position_frag.append([i*frag_size+frag_size/2,j*frag_size+frag_size/2])\n",
    "    img_tensor=img2tensor(img)\n",
    "    \n",
    "    for l in range(limite):\n",
    "        if len(frag_list)>=seuillage:\n",
    "            break\n",
    "        else:\n",
    "            for i in range(n-1):\n",
    "                for j in range(m-1):\n",
    "                    frag_32=frag[i*frag_size+(l+1)*4:(i+1)*frag_size+(l+1)*4,j*frag_size+(l+1)*4:(j+1)*frag_size+(l+1)*4]\n",
    "                    if test_fragment32_32(frag_32,0.5):\n",
    "                        frag_list.append(frag_32)\n",
    "                        position_frag.append([(i*frag_size+frag_size/2)+(l+1)*4,(j*frag_size+frag_size/2)+(l+1)*4])\n",
    "\n",
    "    if using_cuda:\n",
    "        img_tensor=img_tensor.cuda()\n",
    "    \n",
    "    score_list=[]\n",
    "    coordonnee_list=[]\n",
    "    for i in range(len(frag_list)):\n",
    "        frag_tensor=img2tensor(frag_list[i])\n",
    "        if using_cuda:\n",
    "            frag_tensor=frag_tensor.cuda()\n",
    "        res=net.forward(img_tensor,frag_tensor,using_cuda)\n",
    "        if using_cuda:\n",
    "            res=res.cpu()\n",
    "        score,po_h,po_w=show_coordonnee(res)\n",
    "        coordonnee_list.append([po_h,po_w])\n",
    "        score_list.append(score)\n",
    "    h_img,w_img,c=img.shape\n",
    "    position=[]\n",
    "    for i in range(len(coordonnee_list)):\n",
    "        x0=position_frag[i][0]\n",
    "        y0=position_frag[i][1]\n",
    "        x1=int(round(h_img*coordonnee_list[i][0]))\n",
    "        y1=int(round(w_img*coordonnee_list[i][1]))\n",
    "        position.append([x0,y0,x1,y1])\n",
    "    return score_list,position"
   ]
  },
  {
   "cell_type": "code",
   "execution_count": 6,
   "metadata": {},
   "outputs": [],
   "source": [
    "def run_net_v3(net,img,frag,frag_size,limite,seuillage,using_cuda,rotation):\n",
    "    Img=Image.fromarray(frag)\n",
    "    frag=np.array(Img.rotate(rotation))\n",
    "    img_tensor=img2tensor(img)\n",
    "    frag_list,position_frag=get_patch_list(frag,frag_size,limite,seuillage)\n",
    "    if using_cuda:\n",
    "        img_tensor=img_tensor.cuda()\n",
    "    \n",
    "    score_list=[]\n",
    "    coordonnee_list=[]\n",
    "    for i in range(len(frag_list)):\n",
    "        frag_tensor=img2tensor(frag_list[i])\n",
    "        if using_cuda:\n",
    "            frag_tensor=frag_tensor.cuda()\n",
    "        res=net.forward(img_tensor,frag_tensor,using_cuda)\n",
    "        if using_cuda:\n",
    "            res=res.cpu()\n",
    "        score,po_h,po_w=show_coordonnee(res)\n",
    "        coordonnee_list.append([po_h,po_w])\n",
    "        score_list.append(score)\n",
    "    h_img,w_img,c=img.shape\n",
    "    position=[]\n",
    "    for i in range(len(coordonnee_list)):\n",
    "        x0=position_frag[i][0]\n",
    "        y0=position_frag[i][1]\n",
    "        x1=int(round(h_img*coordonnee_list[i][0]))\n",
    "        y1=int(round(w_img*coordonnee_list[i][1]))\n",
    "        position.append([x0,y0,x1,y1])\n",
    "    return score_list,position"
   ]
  },
  {
   "cell_type": "code",
   "execution_count": 7,
   "metadata": {},
   "outputs": [],
   "source": [
    "def creer_rotate_patch(frag,frag_size):\n",
    "    Img_frag=Image.fromarray(frag)\n",
    "    Mask=patch_rotated_mask(frag_size)\n",
    "    frag_rotate=frag*Mask\n",
    "    for i in range(18):\n",
    "        Img_frag_rotate=Img_frag.rotate(i*20)\n",
    "        patch=np.array(Img_frag_rotate)\n",
    "        frag_rotate=np.concatenate((frag_rotate,patch*Mask),axis=0)\n",
    "    return frag_rotate"
   ]
  },
  {
   "cell_type": "code",
   "execution_count": 8,
   "metadata": {},
   "outputs": [],
   "source": [
    "def run_net_v2(net,img,frag,frag_size,using_cuda): #chaque patch dans frag a une rotation plus possible\n",
    "    h,w,c=frag.shape\n",
    "    n=int(h/frag_size)\n",
    "    m=int(w/frag_size)\n",
    "    frag_list=[]\n",
    "    position_frag=[]\n",
    "    for i in range(n):\n",
    "        for j in range(m):\n",
    "            frag_32=frag[i*frag_size:(i+1)*frag_size,j*frag_size:(j+1)*frag_size]\n",
    "            if test_fragment32_32(frag_32,0.9):\n",
    "                frag_list.append(frag_32)\n",
    "                position_frag.append([i*frag_size+frag_size/2,j*frag_size+frag_size/2])\n",
    "    score_list=[]\n",
    "    position_list=[]\n",
    "    rotate=[]\n",
    "    for i in range(len(frag_list)):\n",
    "        frag_rotate=creer_rotate_patch(frag_list[i],frag_size)\n",
    "        score,position=run_net(net,img,frag_rotate,frag_size,using_cuda,0)\n",
    "        \n",
    "        if len(score)>0:\n",
    "            meilleur=np.where(score==min(score))[0][0]\n",
    "            score_list.append(score[meilleur])\n",
    "            rotate.append(meilleur*20)\n",
    "            position_list.append([position_frag[i][0],position_frag[i][1],position[meilleur][2],position[meilleur][3]])\n",
    "    return score_list,position_list,rotate"
   ]
  },
  {
   "cell_type": "code",
   "execution_count": 9,
   "metadata": {},
   "outputs": [],
   "source": [
    "def get_rotate_patch(frag,frag_size,rotation):\n",
    "    Img_frag=Image.fromarray(frag)\n",
    "    frag_rotate=np.array(Img_frag.rotate(rotation))\n",
    "    patch,vt=get_training_fragment(frag_size,frag_rotate)\n",
    "    \n",
    "    while test_fragment32_32(patch,1)==False:\n",
    "        patch,vt=get_training_fragment(frag_size,frag_rotate)\n",
    "        \n",
    "    patch_rotate=patch\n",
    "    for i in range(20):\n",
    "        patch,vt=get_training_fragment(frag_size,frag_rotate)\n",
    "        while test_fragment32_32(patch,1)==False:\n",
    "            patch,vt=get_training_fragment(frag_size,frag_rotate)\n",
    "        patch_rotate=np.concatenate((patch_rotate,patch),axis=0)\n",
    "    return patch_rotate"
   ]
  },
  {
   "cell_type": "code",
   "execution_count": 10,
   "metadata": {},
   "outputs": [],
   "source": [
    "def get_rotate_patch_(frag,frag_size):\n",
    "    \n",
    "    patch,vt=get_training_fragment(frag_size,frag)\n",
    "    Mask=patch_rotated_mask(frag_size)\n",
    "    while test_fragment32_32(patch,0.7)==False:\n",
    "        patch,vt=get_training_fragment(frag_size,frag)\n",
    "    patch_rotate=patch*Mask\n",
    "    Image_patch=Image.fromarray(patch)\n",
    "    for i in range(18):\n",
    "        Image_patch_rotate=Image_patch.rotate(i*20)\n",
    "        patch=np.array(Image_patch_rotate)\n",
    "        patch_rotate=np.concatenate((patch_rotate,patch*Mask),axis=0)\n",
    "    return patch_rotate"
   ]
  },
  {
   "cell_type": "code",
   "execution_count": 11,
   "metadata": {},
   "outputs": [],
   "source": [
    "def trouver_rotate(net,frag,img,frag_size,using_cuda):\n",
    "    rotation=[]\n",
    "    for i in range(18):\n",
    "        frag_rotate=get_rotate_patch(frag,frag_size,i*20)\n",
    "        score,position=run_net(net,img,frag_rotate,frag_size,using_cuda,0)\n",
    "        rotate=sum(score)/len(score)\n",
    "        rotation.append(rotate)\n",
    "    return rotation"
   ]
  },
  {
   "cell_type": "code",
   "execution_count": 12,
   "metadata": {},
   "outputs": [],
   "source": [
    "def creer_point(x,y):\n",
    "    p=np.zeros((3,1))\n",
    "    p[0][0]=x\n",
    "    p[1][0]=y\n",
    "    p[2][0]=1\n",
    "    return p\n",
    "\n",
    "def selectionner_points(n,M):\n",
    "    table=[]\n",
    "    for i in range(M):\n",
    "        table.append(i)\n",
    "    result=[]\n",
    "    for i in range(n):\n",
    "        index=random.randint(0,M-i-1)\n",
    "        result.append(table[index])\n",
    "        table[index]=table[M-1-i]\n",
    "    return result\n",
    "\n",
    "def position_rotation(h,centre_frag):\n",
    "    centre=h@centre_frag\n",
    "    cos_rot=(h[0][0]+h[1][1])/2\n",
    "    sin_rot=(h[1][0]-h[0][1])/2\n",
    "    tan_rot=sin_rot/(cos_rot+0.0000001)\n",
    "    if cos_rot>0:\n",
    "        rot_frag=math.atan(tan_rot)*(180/pi)\n",
    "    else:\n",
    "        rot_frag=math.atan(tan_rot)*(180/pi)+180\n",
    "    rot_frag=-rot_frag\n",
    "    if rot_frag>0:\n",
    "        rot_frag-=360\n",
    "    return centre[0][0],centre[1][0],rot_frag\n",
    "\n",
    "def test_frag(inline,frag,fres):\n",
    "    itera=10\n",
    "    frag_inline=[]\n",
    "    fres_inline=[]\n",
    "    for i in range(np.size(inline,0)):\n",
    "        if inline[i]==1:\n",
    "            frag_inline.append([frag[i][0],frag[i][1]])\n",
    "            fres_inline.append([fres[i][0],fres[i][1]])\n",
    "    p=[]\n",
    "    for i in range(itera):\n",
    "        point_test=selectionner_points(2,np.size(frag_inline,0))\n",
    "        diff_x_frag=frag_inline[point_test[1]][0]-frag_inline[point_test[0]][0]\n",
    "        diff_y_frag=frag_inline[point_test[1]][1]-frag_inline[point_test[0]][1]\n",
    "        diff_frag=sqrt(pow(diff_x_frag,2)+pow(diff_y_frag,2))\n",
    "        \n",
    "        diff_x_fres=fres_inline[point_test[1]][0]-fres_inline[point_test[0]][0]\n",
    "        diff_y_fres=fres_inline[point_test[1]][1]-fres_inline[point_test[0]][1]\n",
    "        diff_fres=sqrt(pow(diff_x_fres,2)+pow(diff_y_fres,2))\n",
    "        if diff_frag !=0:\n",
    "            fsf=diff_fres/diff_frag\n",
    "            p.append([fsf])\n",
    "        result=np.mean(p)\n",
    "    return result\n",
    "\n",
    "def frag_match(frag,img,position):\n",
    "    \n",
    "    frag_size=frag.shape\n",
    "    centre_frag=creer_point(frag_size[0]/2,frag_size[1]/2)\n",
    "    \n",
    "    retained_matches = []\n",
    "    frag=[]\n",
    "    fres=[]\n",
    "    \n",
    "    for i in range(len(position)):\n",
    "        frag.append([float(position[i][0]),float(position[i][1])])\n",
    "        fres.append([float(position[i][2]),float(position[i][3])])\n",
    "    \n",
    "    if np.size(frag)>0:\n",
    "        h,inline=cv2.estimateAffinePartial2D(np.array(frag),np.array(fres))\n",
    "        if np.size(h)!=6:\n",
    "             return ([-1])\n",
    "        else:\n",
    "            x,y,rot=position_rotation(h,centre_frag)\n",
    "            pourcenttage=sum(inline)/np.size(frag,0)\n",
    "            \n",
    "            if sum(inline)>3:\n",
    "                p=test_frag(inline,frag,fres)\n",
    "                if abs(p-1)<0.3:\n",
    "                    return([round(y),round(x),round(rot,3)])\n",
    "                else:\n",
    "                    return ([-2])\n",
    "            else:\n",
    "                return ([-3])\n",
    "    else:\n",
    "        return ([-4])     "
   ]
  },
  {
   "cell_type": "code",
   "execution_count": 54,
   "metadata": {},
   "outputs": [],
   "source": [
    "def back_track_(position_x,position_y,c2):\n",
    "    po_X=position_x\n",
    "    po_Y=position_y\n",
    "    position=[]\n",
    "    sub1=c2[0,2*(po_X-1)-1:2*(po_X-1)+2,2*(po_Y-1)-1:2*(po_Y-1)+2]\n",
    "    sub2=c2[1,2*(po_X-1)-1:2*(po_X-1)+2,2*(po_Y+1)-1:2*(po_Y+1)+2]\n",
    "    sub3=c2[2,2*(po_X+1)-1:2*(po_X+1)+2,2*(po_Y-1)-1:2*(po_Y-1)+2]\n",
    "    sub4=c2[3,2*(po_X+1)-1:2*(po_X+1)+2,2*(po_Y+1)-1:2*(po_Y+1)+2]\n",
    "\n",
    "    x,y=show_coordonnee_2(sub1)\n",
    "    position.append([2*(po_X-1)-1+x,2*(po_Y-1)-1+y])\n",
    "    x,y=show_coordonnee_2(sub2)\n",
    "    position.append([2*(po_X-1)-1+x,2*(po_Y+1)-1+y])\n",
    "    x,y=show_coordonnee_2(sub3)\n",
    "    position.append([2*(po_X+1)-1+x,2*(po_Y-1)-1+y])\n",
    "    x,y=show_coordonnee_2(sub4)\n",
    "    position.append([2*(po_X+1)-1+x,2*(po_X+1)-1+y])\n",
    "    return position\n",
    "\n",
    "def back_track(c1,c2,c3):\n",
    "    position1x,position1y=show_coordonnee_2(c1)\n",
    "    position1=back_track_(position1x,position1y,c2)\n",
    "    position=[]\n",
    "    for i in range(len(position1)):\n",
    "        position_=back_track_(position1[i][0],position1[i][1],c3)\n",
    "        for j in range(len(position_)):\n",
    "            position.append([position_[j][0],position_[j][1]])\n",
    "    return position"
   ]
  },
  {
   "cell_type": "code",
   "execution_count": 14,
   "metadata": {},
   "outputs": [],
   "source": [
    "def get_patch_position(po_x_frag,po_y_frag):\n",
    "    position=[]\n",
    "    po_x=po_x_frag-6\n",
    "    po_y=po_y_frag-6\n",
    "    position.append([po_x,po_y])\n",
    "    position.append([po_x,po_y+4])\n",
    "    position.append([po_x+4,po_y])\n",
    "    position.append([po_x+4,po_y+4])\n",
    "    \n",
    "    po_x=po_x\n",
    "    po_y=po_y+8\n",
    "    position.append([po_x,po_y])\n",
    "    position.append([po_x,po_y+4])\n",
    "    position.append([po_x+4,po_y])\n",
    "    position.append([po_x+4,po_y+4])\n",
    "    \n",
    "    po_x=po_x+8\n",
    "    po_y=po_y-8\n",
    "    position.append([po_x,po_y])\n",
    "    position.append([po_x,po_y+4])\n",
    "    position.append([po_x+4,po_y])\n",
    "    position.append([po_x+4,po_y+4])\n",
    "    \n",
    "    po_x=po_x\n",
    "    po_y=po_y+8\n",
    "    position.append([po_x,po_y])\n",
    "    position.append([po_x,po_y+4])\n",
    "    position.append([po_x+4,po_y])\n",
    "    position.append([po_x+4,po_y+4])\n",
    "    \n",
    "    return position"
   ]
  },
  {
   "cell_type": "code",
   "execution_count": 33,
   "metadata": {},
   "outputs": [],
   "source": [
    "def run_net_avec_backtrack(net,img,frag,frag_size,limite,seuillage,using_cuda,rotation):\n",
    "    Img=Image.fromarray(frag)\n",
    "    frag=np.array(Img.rotate(rotation))\n",
    "    img_tensor=img2tensor(img)\n",
    "    frag_list,position_frag=get_patch_list(frag,frag_size,limite,seuillage)\n",
    "    if using_cuda:\n",
    "        img_tensor=img_tensor.cuda()\n",
    "        \n",
    "    position_patch=[]\n",
    "    for i in range(len(position_frag)):\n",
    "        if i==0:\n",
    "            position_patch=get_patch_position(position_frag[i][0],position_frag[i][1])\n",
    "        else:\n",
    "            position_patch_=get_patch_position(position_frag[i][0],position_frag[i][1])\n",
    "            position_patch=np.concatenate((position_patch,position_patch_),axis=0)\n",
    "    \n",
    "    coordonnee_list=[]\n",
    "    for i in range(len(frag_list)):\n",
    "        frag_tensor=img2tensor(frag_list[i])\n",
    "        if using_cuda:\n",
    "            frag_tensor=frag_tensor.cuda()\n",
    "        cc0,cc1,cc2,cc3=net.forward(img_tensor,frag_tensor,using_cuda)\n",
    "        if using_cuda:\n",
    "            cc1=cc1.cpu()\n",
    "            cc2=cc2.cpu()\n",
    "            cc3=cc3.cpu()\n",
    "        cc1=cc1.detach().squeeze().numpy()\n",
    "        cc2=cc2.detach().squeeze().numpy()\n",
    "        cc3=cc3.detach().squeeze().numpy()\n",
    "        if i==0:\n",
    "            coordonnee_list=back_track(cc1,cc2,cc3)\n",
    "        else:\n",
    "            p=back_track(cc1,cc2,cc3)\n",
    "            coordonnee_list=np.concatenate((coordonnee_list,p),axis=0)\n",
    "\n",
    "    h_img,w_img,c=img.shape\n",
    "    position=[]\n",
    "    for i in range(len(coordonnee_list)):\n",
    "        x0=position_patch[i][0]\n",
    "        y0=position_patch[i][1]\n",
    "        x1=coordonnee_list[i][0]\n",
    "        y1=coordonnee_list[i][1]\n",
    "        position.append([x0,y0,x1,y1])\n",
    "    return position"
   ]
  },
  {
   "cell_type": "code",
   "execution_count": 52,
   "metadata": {},
   "outputs": [
    {
     "ename": "KeyboardInterrupt",
     "evalue": "",
     "output_type": "error",
     "traceback": [
      "\u001b[0;31m---------------------------------------------------------------------------\u001b[0m",
      "\u001b[0;31mKeyboardInterrupt\u001b[0m                         Traceback (most recent call last)",
      "\u001b[0;32m<ipython-input-52-206c6db894a9>\u001b[0m in \u001b[0;36m<module>\u001b[0;34m\u001b[0m\n\u001b[1;32m     17\u001b[0m             \u001b[0mfrag_test\u001b[0m\u001b[0;34m=\u001b[0m\u001b[0mcv2\u001b[0m\u001b[0;34m.\u001b[0m\u001b[0mimread\u001b[0m\u001b[0;34m(\u001b[0m\u001b[0;34m\"./frag_eroded0/frag_eroded_0\"\u001b[0m\u001b[0;34m+\u001b[0m\u001b[0mstr\u001b[0m\u001b[0;34m(\u001b[0m\u001b[0mn\u001b[0m\u001b[0;34m)\u001b[0m\u001b[0;34m+\u001b[0m\u001b[0;34m\".ppm\"\u001b[0m\u001b[0;34m)\u001b[0m\u001b[0;34m\u001b[0m\u001b[0;34m\u001b[0m\u001b[0m\n\u001b[1;32m     18\u001b[0m         \u001b[0;32mfor\u001b[0m \u001b[0mi\u001b[0m \u001b[0;32min\u001b[0m \u001b[0mrange\u001b[0m\u001b[0;34m(\u001b[0m\u001b[0;36m18\u001b[0m\u001b[0;34m)\u001b[0m\u001b[0;34m:\u001b[0m\u001b[0;34m\u001b[0m\u001b[0;34m\u001b[0m\u001b[0m\n\u001b[0;32m---> 19\u001b[0;31m             \u001b[0mposition\u001b[0m\u001b[0;34m=\u001b[0m\u001b[0mrun_net_avec_backtrack\u001b[0m\u001b[0;34m(\u001b[0m\u001b[0mnet\u001b[0m\u001b[0;34m,\u001b[0m\u001b[0mimg_test\u001b[0m\u001b[0;34m,\u001b[0m\u001b[0mfrag_test\u001b[0m\u001b[0;34m,\u001b[0m\u001b[0mfrag_size\u001b[0m\u001b[0;34m,\u001b[0m\u001b[0mlimite\u001b[0m\u001b[0;34m,\u001b[0m\u001b[0mseuillage\u001b[0m\u001b[0;34m,\u001b[0m\u001b[0musing_cuda\u001b[0m\u001b[0;34m,\u001b[0m\u001b[0mi\u001b[0m\u001b[0;34m*\u001b[0m\u001b[0;36m20\u001b[0m\u001b[0;34m)\u001b[0m\u001b[0;34m\u001b[0m\u001b[0;34m\u001b[0m\u001b[0m\n\u001b[0m\u001b[1;32m     20\u001b[0m             \u001b[0mfrag_position\u001b[0m\u001b[0;34m=\u001b[0m\u001b[0mfrag_match\u001b[0m\u001b[0;34m(\u001b[0m\u001b[0mfrag_test\u001b[0m\u001b[0;34m,\u001b[0m\u001b[0mimg_test\u001b[0m\u001b[0;34m,\u001b[0m\u001b[0mposition\u001b[0m\u001b[0;34m)\u001b[0m\u001b[0;34m\u001b[0m\u001b[0;34m\u001b[0m\u001b[0m\n\u001b[1;32m     21\u001b[0m             \u001b[0;32mif\u001b[0m \u001b[0mlen\u001b[0m\u001b[0;34m(\u001b[0m\u001b[0mfrag_position\u001b[0m\u001b[0;34m)\u001b[0m\u001b[0;34m==\u001b[0m\u001b[0;36m3\u001b[0m\u001b[0;34m:\u001b[0m\u001b[0;34m\u001b[0m\u001b[0;34m\u001b[0m\u001b[0m\n",
      "\u001b[0;32m<ipython-input-33-cd242d43b08b>\u001b[0m in \u001b[0;36mrun_net_avec_backtrack\u001b[0;34m(net, img, frag, frag_size, limite, seuillage, using_cuda, rotation)\u001b[0m\n\u001b[1;32m     20\u001b[0m         \u001b[0;32mif\u001b[0m \u001b[0musing_cuda\u001b[0m\u001b[0;34m:\u001b[0m\u001b[0;34m\u001b[0m\u001b[0;34m\u001b[0m\u001b[0m\n\u001b[1;32m     21\u001b[0m             \u001b[0mfrag_tensor\u001b[0m\u001b[0;34m=\u001b[0m\u001b[0mfrag_tensor\u001b[0m\u001b[0;34m.\u001b[0m\u001b[0mcuda\u001b[0m\u001b[0;34m(\u001b[0m\u001b[0;34m)\u001b[0m\u001b[0;34m\u001b[0m\u001b[0;34m\u001b[0m\u001b[0m\n\u001b[0;32m---> 22\u001b[0;31m         \u001b[0mcc0\u001b[0m\u001b[0;34m,\u001b[0m\u001b[0mcc1\u001b[0m\u001b[0;34m,\u001b[0m\u001b[0mcc2\u001b[0m\u001b[0;34m,\u001b[0m\u001b[0mcc3\u001b[0m\u001b[0;34m=\u001b[0m\u001b[0mnet\u001b[0m\u001b[0;34m.\u001b[0m\u001b[0mforward\u001b[0m\u001b[0;34m(\u001b[0m\u001b[0mimg_tensor\u001b[0m\u001b[0;34m,\u001b[0m\u001b[0mfrag_tensor\u001b[0m\u001b[0;34m,\u001b[0m\u001b[0musing_cuda\u001b[0m\u001b[0;34m)\u001b[0m\u001b[0;34m\u001b[0m\u001b[0;34m\u001b[0m\u001b[0m\n\u001b[0m\u001b[1;32m     23\u001b[0m         \u001b[0;32mif\u001b[0m \u001b[0musing_cuda\u001b[0m\u001b[0;34m:\u001b[0m\u001b[0;34m\u001b[0m\u001b[0;34m\u001b[0m\u001b[0m\n\u001b[1;32m     24\u001b[0m             \u001b[0mcc1\u001b[0m\u001b[0;34m=\u001b[0m\u001b[0mcc1\u001b[0m\u001b[0;34m.\u001b[0m\u001b[0mcpu\u001b[0m\u001b[0;34m(\u001b[0m\u001b[0;34m)\u001b[0m\u001b[0;34m\u001b[0m\u001b[0;34m\u001b[0m\u001b[0m\n",
      "\u001b[0;32m<ipython-input-3-f9a34ad9670e>\u001b[0m in \u001b[0;36mforward\u001b[0;34m(self, img, frag, using_cuda)\u001b[0m\n\u001b[1;32m    171\u001b[0m \u001b[0;34m\u001b[0m\u001b[0m\n\u001b[1;32m    172\u001b[0m         \u001b[0mb\u001b[0m\u001b[0;34m,\u001b[0m\u001b[0mc\u001b[0m\u001b[0;34m,\u001b[0m\u001b[0mh\u001b[0m\u001b[0;34m,\u001b[0m\u001b[0mw\u001b[0m\u001b[0;34m=\u001b[0m\u001b[0mmap_corre\u001b[0m\u001b[0;34m.\u001b[0m\u001b[0mshape\u001b[0m\u001b[0;34m\u001b[0m\u001b[0;34m\u001b[0m\u001b[0m\n\u001b[0;32m--> 173\u001b[0;31m         \u001b[0mmap_corre\u001b[0m\u001b[0;34m=\u001b[0m\u001b[0mmap_corre\u001b[0m\u001b[0;34m/\u001b[0m\u001b[0;34m(\u001b[0m\u001b[0mmap_corre\u001b[0m\u001b[0;34m.\u001b[0m\u001b[0mmax\u001b[0m\u001b[0;34m(\u001b[0m\u001b[0;34m)\u001b[0m\u001b[0;34m)\u001b[0m\u001b[0;34m\u001b[0m\u001b[0;34m\u001b[0m\u001b[0m\n\u001b[0m\u001b[1;32m    174\u001b[0m         \u001b[0;32mreturn\u001b[0m \u001b[0mmap_corre\u001b[0m\u001b[0;34m,\u001b[0m\u001b[0mmap_corre3\u001b[0m\u001b[0;34m,\u001b[0m\u001b[0mmap_corre2\u001b[0m\u001b[0;34m,\u001b[0m\u001b[0mmap_corre1\u001b[0m\u001b[0;34m\u001b[0m\u001b[0;34m\u001b[0m\u001b[0m\n",
      "\u001b[0;31mKeyboardInterrupt\u001b[0m: "
     ]
    }
   ],
   "source": [
    "if __name__==\"__main__\":\n",
    "    frag_size=16\n",
    "    using_cuda=True\n",
    "    limite=1\n",
    "    seuillage=1\n",
    "    net=load_net(\"./Training_300_fresque0\")\n",
    "    img_test=cv2.imread(\"./fresque0.ppm\")\n",
    "    filename=\"./result_fresque0.txt\"\n",
    "    result_file=open(filename,'w+')\n",
    "    result=[]\n",
    "    for n in range(315):\n",
    "        if n<10:\n",
    "            frag_test=cv2.imread(\"./frag_eroded0/frag_eroded_000\"+str(n)+\".ppm\")\n",
    "        elif n<100:\n",
    "            frag_test=cv2.imread(\"./frag_eroded0/frag_eroded_00\"+str(n)+\".ppm\")\n",
    "        else:\n",
    "            frag_test=cv2.imread(\"./frag_eroded0/frag_eroded_0\"+str(n)+\".ppm\")\n",
    "        for i in range(18):\n",
    "            position=run_net_avec_backtrack(net,img_test,frag_test,frag_size,limite,seuillage,using_cuda,i*20)\n",
    "            frag_position=frag_match(frag_test,img_test,position)\n",
    "            if len(frag_position)==3:\n",
    "                rotation_base=i*20\n",
    "                break\n",
    "        if len(frag_position)==3:\n",
    "            frag_position[2]=rotation_base-360-frag_position[2]\n",
    "            if frag_position[2]>0:\n",
    "                frag_position[2]=frag_position[2]-360\n",
    "            result.append([n,frag_position[0],frag_position[1],round(frag_position[2],3)])\n",
    "            s=str(n)+\" \"+str(frag_position[0])+\" \"+str(frag_position[1])+\" \"+str(round(frag_position[2],3))+\"\\n\"\n",
    "        else:\n",
    "            s=str(n)+\"\\n\"\n",
    "        print(s,file=result_file)\n",
    "    result_file.close()"
   ]
  },
  {
   "cell_type": "code",
   "execution_count": 72,
   "metadata": {},
   "outputs": [],
   "source": [
    "net=load_net(\"./Training_300_fresque0\")"
   ]
  },
  {
   "cell_type": "code",
   "execution_count": 73,
   "metadata": {},
   "outputs": [],
   "source": [
    "\n",
    "frag_test=cv2.imread(\"./frag_eroded0/frag_eroded_0000.ppm\")\n",
    "position=run_net_avec_backtrack(net,img_test,frag_test,frag_size,limite,seuillage,using_cuda,i*20)\n",
    "frag_position=frag_match(frag_test,img_test,position)"
   ]
  },
  {
   "cell_type": "code",
   "execution_count": 75,
   "metadata": {},
   "outputs": [
    {
     "data": {
      "text/plain": [
       "[[50, 34, 762, 255],\n",
       " [50, 38, 762, 259],\n",
       " [54, 34, 767, 255],\n",
       " [54, 38, 765, 765],\n",
       " [50, 42, 764, 261],\n",
       " [50, 46, 763, 265],\n",
       " [54, 42, 767, 261],\n",
       " [54, 46, 768, 767],\n",
       " [58, 34, 771, 257],\n",
       " [58, 38, 771, 261],\n",
       " [62, 34, 773, 255],\n",
       " [62, 38, 773, 775],\n",
       " [58, 42, 768, 769],\n",
       " [58, 46, 767, 771],\n",
       " [62, 42, 772, 769],\n",
       " [62, 46, 771, 771],\n",
       " [50, 50, 621, 473],\n",
       " [50, 54, 621, 475],\n",
       " [54, 50, 627, 473],\n",
       " [54, 54, 625, 627],\n",
       " [50, 58, 623, 479],\n",
       " [50, 62, 624, 483],\n",
       " [54, 58, 629, 479],\n",
       " [54, 62, 628, 629],\n",
       " [58, 50, 629, 470],\n",
       " [58, 54, 630, 475],\n",
       " [62, 50, 633, 471],\n",
       " [62, 54, 633, 635],\n",
       " [58, 58, 633, 631],\n",
       " [58, 62, 632, 634],\n",
       " [62, 58, 636, 631],\n",
       " [62, 62, 637, 637],\n",
       " [66, 34, 723, 440],\n",
       " [66, 38, 721, 443],\n",
       " [70, 34, 727, 441],\n",
       " [70, 38, 727, 727],\n",
       " [66, 42, 721, 449],\n",
       " [66, 46, 721, 453],\n",
       " [70, 42, 724, 449],\n",
       " [70, 46, 724, 725],\n",
       " [74, 34, 731, 443],\n",
       " [74, 38, 729, 449],\n",
       " [78, 34, 733, 445],\n",
       " [78, 38, 733, 734],\n",
       " [74, 42, 731, 727],\n",
       " [74, 46, 730, 733],\n",
       " [78, 42, 733, 728],\n",
       " [78, 46, 735, 734],\n",
       " [66, 50, 127, 679],\n",
       " [66, 54, 129, 681],\n",
       " [70, 50, 132, 678],\n",
       " [70, 54, 133, 131],\n",
       " [66, 58, 131, 689],\n",
       " [66, 62, 133, 693],\n",
       " [70, 58, 137, 687],\n",
       " [70, 62, 137, 137],\n",
       " [74, 50, 138, 678],\n",
       " [74, 54, 139, 682],\n",
       " [78, 50, 141, 677],\n",
       " [78, 54, 142, 142],\n",
       " [74, 58, 137, 137],\n",
       " [74, 62, 138, 141],\n",
       " [78, 58, 141, 136],\n",
       " [78, 62, 143, 141],\n",
       " [66, 66, 630, 644],\n",
       " [66, 70, 630, 648],\n",
       " [70, 66, 635, 643],\n",
       " [70, 70, 633, 634],\n",
       " [66, 74, 631, 651],\n",
       " [66, 78, 629, 655],\n",
       " [70, 74, 633, 653],\n",
       " [70, 78, 635, 634],\n",
       " [74, 66, 635, 643],\n",
       " [74, 70, 635, 646],\n",
       " [78, 66, 639, 641],\n",
       " [78, 70, 639, 639],\n",
       " [74, 74, 637, 638],\n",
       " [74, 78, 636, 642],\n",
       " [78, 74, 641, 638],\n",
       " [78, 78, 639, 639],\n",
       " [82, 34, 145, 60],\n",
       " [82, 38, 143, 63],\n",
       " [86, 34, 148, 59],\n",
       " [86, 38, 147, 148],\n",
       " [82, 42, 140, 70],\n",
       " [82, 46, 139, 73],\n",
       " [86, 42, 145, 69],\n",
       " [86, 46, 144, 143],\n",
       " [90, 34, 152, 63],\n",
       " [90, 38, 153, 69],\n",
       " [94, 34, 157, 65],\n",
       " [94, 38, 157, 156],\n",
       " [90, 42, 150, 148],\n",
       " [90, 46, 150, 152],\n",
       " [94, 42, 154, 148],\n",
       " [94, 46, 153, 154],\n",
       " [82, 50, 762, 152],\n",
       " [82, 54, 763, 156],\n",
       " [86, 50, 765, 153],\n",
       " [86, 54, 766, 765],\n",
       " [82, 58, 763, 160],\n",
       " [82, 62, 764, 163],\n",
       " [86, 58, 768, 161],\n",
       " [86, 62, 769, 767],\n",
       " [90, 50, 770, 156],\n",
       " [90, 54, 771, 161],\n",
       " [94, 50, 773, 157],\n",
       " [94, 54, 773, 773],\n",
       " [90, 58, 770, 772],\n",
       " [90, 62, 770, 777],\n",
       " [94, 58, 773, 771],\n",
       " [94, 62, 773, 773],\n",
       " [82, 82, 659, 693],\n",
       " [82, 86, 660, 695],\n",
       " [86, 82, 663, 692],\n",
       " [86, 86, 665, 663],\n",
       " [82, 90, 661, 697],\n",
       " [82, 94, 661, 702],\n",
       " [86, 90, 665, 697],\n",
       " [86, 94, 664, 664],\n",
       " [90, 82, 665, 688],\n",
       " [90, 86, 663, 691],\n",
       " [94, 82, 669, 687],\n",
       " [94, 86, 667, 669],\n",
       " [90, 90, 663, 665],\n",
       " [90, 94, 665, 669],\n",
       " [94, 90, 667, 667],\n",
       " [94, 94, 667, 669],\n",
       " [82, 98, 763, 60],\n",
       " [82, 102, 763, 65],\n",
       " [86, 98, 767, 61],\n",
       " [86, 102, 767, 766],\n",
       " [82, 106, 764, 65],\n",
       " [82, 110, 763, 68],\n",
       " [86, 106, 769, 64],\n",
       " [86, 110, 767, 769],\n",
       " [90, 98, 770, 60],\n",
       " [90, 102, 769, 63],\n",
       " [94, 98, 773, 61],\n",
       " [94, 102, 773, 775],\n",
       " [90, 106, 770, 769],\n",
       " [90, 110, 770, 772],\n",
       " [94, 106, 774, 769],\n",
       " [94, 110, 773, 773],\n",
       " [98, 34, 469, 278],\n",
       " [98, 38, 467, 282],\n",
       " [102, 34, 472, 279],\n",
       " [102, 38, 472, 473],\n",
       " [98, 42, 469, 289],\n",
       " [98, 46, 469, 293],\n",
       " [102, 42, 471, 288],\n",
       " [102, 46, 472, 472],\n",
       " [106, 34, 479, 277],\n",
       " [106, 38, 481, 279],\n",
       " [110, 34, 483, 277],\n",
       " [110, 38, 483, 483],\n",
       " [106, 42, 476, 476],\n",
       " [106, 46, 475, 481],\n",
       " [110, 42, 479, 475],\n",
       " [110, 46, 481, 481],\n",
       " [98, 50, 723, 440],\n",
       " [98, 54, 721, 445],\n",
       " [102, 50, 725, 441],\n",
       " [102, 54, 727, 725],\n",
       " [98, 58, 721, 444],\n",
       " [98, 62, 719, 448],\n",
       " [102, 58, 724, 445],\n",
       " [102, 62, 723, 725],\n",
       " [106, 50, 730, 440],\n",
       " [106, 54, 730, 444],\n",
       " [110, 50, 734, 439],\n",
       " [110, 54, 733, 734],\n",
       " [106, 58, 732, 728],\n",
       " [106, 62, 733, 731],\n",
       " [110, 58, 735, 727],\n",
       " [110, 62, 737, 737],\n",
       " [98, 82, 597, 538],\n",
       " [98, 86, 595, 543],\n",
       " [102, 82, 600, 539],\n",
       " [102, 86, 600, 601],\n",
       " [98, 90, 597, 544],\n",
       " [98, 94, 597, 549],\n",
       " [102, 90, 600, 543],\n",
       " [102, 94, 601, 599],\n",
       " [106, 82, 601, 538],\n",
       " [106, 86, 601, 541],\n",
       " [110, 82, 606, 537],\n",
       " [110, 86, 607, 606],\n",
       " [106, 90, 603, 599],\n",
       " [106, 94, 603, 603],\n",
       " [110, 90, 606, 600],\n",
       " [110, 94, 607, 606]]"
      ]
     },
     "execution_count": 75,
     "metadata": {},
     "output_type": "execute_result"
    }
   ],
   "source": [
    "position"
   ]
  },
  {
   "cell_type": "code",
   "execution_count": 164,
   "metadata": {},
   "outputs": [],
   "source": [
    "po_X,po_Y=show_coordonnee_2(c1)\n",
    "po_X=2*po_X\n",
    "po_Y=2*po_Y\n",
    "position=[]\n",
    "sub1=c2[0,po_X-1-1:po_X+2-1,po_Y-1-1:po_Y+2-1]\n",
    "sub2=c2[1,po_X-1-1:po_X+2-1,po_Y-1+1:po_Y+2+1]\n",
    "sub3=c2[2,po_X-1+1:po_X+2+1,po_Y-1-1:po_Y+2-1]\n",
    "sub4=c2[3,po_X-1+1:po_X+2+1,po_Y-1+1:po_Y+2+1]\n",
    "\n",
    "x,y=show_coordonnee_2(sub1)\n",
    "position.append([po_X-1-1+x,po_Y-1-1+y])\n",
    "x,y=show_coordonnee_2(sub2)\n",
    "position.append([po_X-1-1+x,po_Y-1+1+y])\n",
    "x,y=show_coordonnee_2(sub3)\n",
    "position.append([po_X-1+1+x,po_Y-1-1+y])\n",
    "x,y=show_coordonnee_2(sub4)\n",
    "position.append([po_X-1+1+x,po_Y-1+1+y])"
   ]
  },
  {
   "cell_type": "code",
   "execution_count": 178,
   "metadata": {},
   "outputs": [],
   "source": [
    "po_X,po_Y=show_coordonnee_2(c1)\n",
    "position2=back_track(po_X,po_Y,c2)"
   ]
  },
  {
   "cell_type": "code",
   "execution_count": 19,
   "metadata": {},
   "outputs": [
    {
     "data": {
      "text/plain": [
       "[[[18, 50], [18, 54], [528, 494], [528, 498]],\n",
       " [[34, 34], [34, 38], [544, 479], [544, 482]],\n",
       " [[34, 50], [34, 54], [544, 498], [546, 500]],\n",
       " [[34, 66], [34, 70], [542, 510], [542, 512]],\n",
       " [[50, 18], [50, 22], [562, 464], [563, 467]],\n",
       " [[50, 34], [50, 38], [560, 480], [560, 483]],\n",
       " [[50, 50], [50, 54], [559, 496], [559, 500]],\n",
       " [[50, 66], [50, 70], [558, 512], [558, 516]],\n",
       " [[66, 34], [66, 38], [576, 482], [576, 485]],\n",
       " [[66, 50], [66, 54], [576, 498], [578, 502]],\n",
       " [[66, 66], [66, 70], [576, 516], [574, 517]],\n",
       " [[82, 18], [82, 22], [596, 467], [596, 468]],\n",
       " [[98, 66], [98, 70], [606, 515], [606, 517]]]"
      ]
     },
     "execution_count": 19,
     "metadata": {},
     "output_type": "execute_result"
    }
   ],
   "source": [
    "position"
   ]
  },
  {
   "cell_type": "code",
   "execution_count": 180,
   "metadata": {},
   "outputs": [],
   "source": [
    "position3=back_track(position[0][0],position[0][1],c3)"
   ]
  },
  {
   "cell_type": "code",
   "execution_count": 182,
   "metadata": {},
   "outputs": [
    {
     "data": {
      "text/plain": [
       "[[274, 1090], [274, 1094], [277, 1090], [277, 1094]]"
      ]
     },
     "execution_count": 182,
     "metadata": {},
     "output_type": "execute_result"
    }
   ],
   "source": [
    "back_track(position[0][0],position[0][1],c3)"
   ]
  },
  {
   "cell_type": "code",
   "execution_count": 183,
   "metadata": {},
   "outputs": [
    {
     "data": {
      "text/plain": [
       "[[276, 1099], [274, 1102], [276, 1100], [278, 1101]]"
      ]
     },
     "execution_count": 183,
     "metadata": {},
     "output_type": "execute_result"
    }
   ],
   "source": [
    "back_track(position[1][0],position[1][1],c3)"
   ]
  },
  {
   "cell_type": "code",
   "execution_count": 184,
   "metadata": {},
   "outputs": [
    {
     "data": {
      "text/plain": [
       "[[283, 1090], [284, 1092], [286, 1092], [285, 1094]]"
      ]
     },
     "execution_count": 184,
     "metadata": {},
     "output_type": "execute_result"
    }
   ],
   "source": [
    "back_track(position[2][0],position[2][1],c3)"
   ]
  },
  {
   "cell_type": "code",
   "execution_count": 185,
   "metadata": {},
   "outputs": [
    {
     "data": {
      "text/plain": [
       "[[282, 1099], [283, 1102], [284, 1098], [284, 1100]]"
      ]
     },
     "execution_count": 185,
     "metadata": {},
     "output_type": "execute_result"
    }
   ],
   "source": [
    "back_track(position[3][0],position[3][1],c3)"
   ]
  },
  {
   "cell_type": "code",
   "execution_count": 201,
   "metadata": {},
   "outputs": [],
   "source": [
    "p=back_track(c1,c2,c3)"
   ]
  },
  {
   "cell_type": "code",
   "execution_count": 202,
   "metadata": {},
   "outputs": [
    {
     "data": {
      "text/plain": [
       "[[274, 1090],\n",
       " [274, 1094],\n",
       " [277, 1090],\n",
       " [277, 1094],\n",
       " [276, 1099],\n",
       " [274, 1102],\n",
       " [276, 1100],\n",
       " [278, 1101],\n",
       " [283, 1090],\n",
       " [284, 1092],\n",
       " [286, 1092],\n",
       " [285, 1094],\n",
       " [282, 1099],\n",
       " [283, 1102],\n",
       " [284, 1098],\n",
       " [284, 1100]]"
      ]
     },
     "execution_count": 202,
     "metadata": {},
     "output_type": "execute_result"
    }
   ],
   "source": [
    "p"
   ]
  },
  {
   "cell_type": "code",
   "execution_count": 21,
   "metadata": {},
   "outputs": [],
   "source": [
    "a=get_patch_position(280,1096)"
   ]
  },
  {
   "cell_type": "code",
   "execution_count": 26,
   "metadata": {},
   "outputs": [],
   "source": [
    "list1=[]"
   ]
  },
  {
   "cell_type": "code",
   "execution_count": 27,
   "metadata": {},
   "outputs": [],
   "source": [
    "list1.append(a[:])"
   ]
  },
  {
   "cell_type": "code",
   "execution_count": 29,
   "metadata": {},
   "outputs": [],
   "source": [
    "b=np.concatenate((a,a),axis=0)"
   ]
  },
  {
   "cell_type": "code",
   "execution_count": 30,
   "metadata": {},
   "outputs": [
    {
     "data": {
      "text/plain": [
       "array([[ 274, 1090],\n",
       "       [ 274, 1094],\n",
       "       [ 278, 1090],\n",
       "       [ 278, 1094],\n",
       "       [ 274, 1098],\n",
       "       [ 274, 1102],\n",
       "       [ 278, 1098],\n",
       "       [ 278, 1102],\n",
       "       [ 282, 1090],\n",
       "       [ 282, 1094],\n",
       "       [ 286, 1090],\n",
       "       [ 286, 1094],\n",
       "       [ 282, 1098],\n",
       "       [ 282, 1102],\n",
       "       [ 286, 1098],\n",
       "       [ 286, 1102],\n",
       "       [ 274, 1090],\n",
       "       [ 274, 1094],\n",
       "       [ 278, 1090],\n",
       "       [ 278, 1094],\n",
       "       [ 274, 1098],\n",
       "       [ 274, 1102],\n",
       "       [ 278, 1098],\n",
       "       [ 278, 1102],\n",
       "       [ 282, 1090],\n",
       "       [ 282, 1094],\n",
       "       [ 286, 1090],\n",
       "       [ 286, 1094],\n",
       "       [ 282, 1098],\n",
       "       [ 282, 1102],\n",
       "       [ 286, 1098],\n",
       "       [ 286, 1102]])"
      ]
     },
     "execution_count": 30,
     "metadata": {},
     "output_type": "execute_result"
    }
   ],
   "source": [
    "b"
   ]
  },
  {
   "cell_type": "code",
   "execution_count": 152,
   "metadata": {},
   "outputs": [
    {
     "data": {
      "text/plain": [
       "tensor([[49.7317, 34.9995, 36.2659],\n",
       "        [40.7684, 36.1587, 35.9837],\n",
       "        [41.1687, 33.5042, 33.5451]], grad_fn=<SliceBackward>)"
      ]
     },
     "execution_count": 152,
     "metadata": {},
     "output_type": "execute_result"
    }
   ],
   "source": [
    "cc2[0,0,po_X-1-1:po_X+2-1,po_Y-1-1:po_Y+2-1]"
   ]
  },
  {
   "cell_type": "code",
   "execution_count": 153,
   "metadata": {},
   "outputs": [
    {
     "data": {
      "text/plain": [
       "tensor([[42.4516, 38.1560, 52.8060],\n",
       "        [43.5570, 39.9153, 40.5929],\n",
       "        [37.1061, 39.5472, 39.8736]], grad_fn=<SliceBackward>)"
      ]
     },
     "execution_count": 153,
     "metadata": {},
     "output_type": "execute_result"
    }
   ],
   "source": [
    "cc2[0,1,po_X-1-1:po_X+2-1,po_Y-1+1:po_Y+2+1]"
   ]
  },
  {
   "cell_type": "code",
   "execution_count": 154,
   "metadata": {},
   "outputs": [
    {
     "data": {
      "text/plain": [
       "tensor([[38.5359, 39.8379, 40.4517],\n",
       "        [37.7244, 38.5249, 40.8695],\n",
       "        [51.1453, 38.1801, 43.1565]], grad_fn=<SliceBackward>)"
      ]
     },
     "execution_count": 154,
     "metadata": {},
     "output_type": "execute_result"
    }
   ],
   "source": [
    "cc2[0,2,po_X-1+1:po_X+2+1,po_Y-1-1:po_Y+2-1]"
   ]
  },
  {
   "cell_type": "code",
   "execution_count": 155,
   "metadata": {},
   "outputs": [
    {
     "data": {
      "text/plain": [
       "tensor([[36.3988, 36.1545, 35.5884],\n",
       "        [36.2117, 40.4985, 37.4560],\n",
       "        [41.0784, 38.2634, 51.7235]], grad_fn=<SliceBackward>)"
      ]
     },
     "execution_count": 155,
     "metadata": {},
     "output_type": "execute_result"
    }
   ],
   "source": [
    "cc2[0,3,po_X-1+1:po_X+2+1,po_Y-1+1:po_Y+2+1]"
   ]
  },
  {
   "cell_type": "code",
   "execution_count": 160,
   "metadata": {},
   "outputs": [
    {
     "data": {
      "text/plain": [
       "array([[49.731686, 34.99951 , 36.265865],\n",
       "       [40.768433, 36.15872 , 35.98373 ],\n",
       "       [41.16866 , 33.50422 , 33.545097]], dtype=float32)"
      ]
     },
     "execution_count": 160,
     "metadata": {},
     "output_type": "execute_result"
    }
   ],
   "source": [
    "sub1"
   ]
  },
  {
   "cell_type": "code",
   "execution_count": 161,
   "metadata": {},
   "outputs": [
    {
     "data": {
      "text/plain": [
       "array([[42.45165 , 38.156048, 52.805996],\n",
       "       [43.557003, 39.915257, 40.592937],\n",
       "       [37.106056, 39.54717 , 39.873604]], dtype=float32)"
      ]
     },
     "execution_count": 161,
     "metadata": {},
     "output_type": "execute_result"
    }
   ],
   "source": [
    "sub2"
   ]
  },
  {
   "cell_type": "code",
   "execution_count": 86,
   "metadata": {},
   "outputs": [
    {
     "data": {
      "text/plain": [
       "array([[ 30.629622,  53.81918 ,  66.06404 , ...,  65.356575,  62.06149 ,\n",
       "         30.317574],\n",
       "       [ 50.241833, 101.460526, 118.98468 , ..., 126.8351  , 124.77374 ,\n",
       "         61.42572 ],\n",
       "       [ 59.953754, 114.07675 , 132.76764 , ..., 144.73991 , 146.59457 ,\n",
       "         69.021324],\n",
       "       ...,\n",
       "       [ 54.668262, 101.782715, 119.457596, ..., 150.62804 , 155.33919 ,\n",
       "         78.50753 ],\n",
       "       [ 60.4006  , 105.240295, 122.80266 , ..., 149.1583  , 156.2023  ,\n",
       "         78.7481  ],\n",
       "       [ 30.23301 ,  61.410133,  70.9138  , ...,  74.048355,  74.048355,\n",
       "         36.13511 ]], dtype=float32)"
      ]
     },
     "execution_count": 86,
     "metadata": {},
     "output_type": "execute_result"
    }
   ],
   "source": [
    "c1"
   ]
  },
  {
   "cell_type": "code",
   "execution_count": 138,
   "metadata": {},
   "outputs": [
    {
     "data": {
      "text/plain": [
       "(70, 274)"
      ]
     },
     "execution_count": 138,
     "metadata": {},
     "output_type": "execute_result"
    }
   ],
   "source": [
    "show_coordonnee_2(c1)"
   ]
  },
  {
   "cell_type": "code",
   "execution_count": 139,
   "metadata": {},
   "outputs": [
    {
     "data": {
      "text/plain": [
       "(8666728.506835938, 0.36082474226804123, 0.6416861826697893)"
      ]
     },
     "execution_count": 139,
     "metadata": {},
     "output_type": "execute_result"
    }
   ],
   "source": [
    "show_coordonnee(cc1)"
   ]
  },
  {
   "cell_type": "code",
   "execution_count": 140,
   "metadata": {},
   "outputs": [
    {
     "data": {
      "text/plain": [
       "(194, 427)"
      ]
     },
     "execution_count": 140,
     "metadata": {},
     "output_type": "execute_result"
    }
   ],
   "source": [
    "c1.shape"
   ]
  },
  {
   "cell_type": "code",
   "execution_count": 156,
   "metadata": {},
   "outputs": [
    {
     "data": {
      "text/plain": [
       "(4, 388, 854)"
      ]
     },
     "execution_count": 156,
     "metadata": {},
     "output_type": "execute_result"
    }
   ],
   "source": [
    "c2.shape"
   ]
  },
  {
   "cell_type": "code",
   "execution_count": 158,
   "metadata": {},
   "outputs": [
    {
     "data": {
      "text/plain": [
       "(388, 854)"
      ]
     },
     "execution_count": 158,
     "metadata": {},
     "output_type": "execute_result"
    }
   ],
   "source": [
    "c2[0,:,:].shape"
   ]
  },
  {
   "cell_type": "code",
   "execution_count": 205,
   "metadata": {},
   "outputs": [
    {
     "data": {
      "text/plain": [
       "[[2, 2],\n",
       " [2, 6],\n",
       " [6, 2],\n",
       " [6, 6],\n",
       " [2, 10],\n",
       " [2, 14],\n",
       " [6, 10],\n",
       " [6, 14],\n",
       " [10, 2],\n",
       " [10, 6],\n",
       " [14, 2],\n",
       " [14, 6],\n",
       " [10, 10],\n",
       " [10, 14],\n",
       " [14, 10],\n",
       " [14, 14]]"
      ]
     },
     "execution_count": 205,
     "metadata": {},
     "output_type": "execute_result"
    }
   ],
   "source": [
    "get_patch_position(8,8)"
   ]
  },
  {
   "cell_type": "code",
   "execution_count": 220,
   "metadata": {},
   "outputs": [
    {
     "data": {
      "text/plain": [
       "<matplotlib.image.AxesImage at 0x7fb1102c17d0>"
      ]
     },
     "execution_count": 220,
     "metadata": {},
     "output_type": "execute_result"
    },
    {
     "data": {
      "image/png": "[encoded data removed]",
      "text/plain": [
       "<Figure size 432x288 with 1 Axes>"
      ]
     },
     "metadata": {
      "needs_background": "light"
     },
     "output_type": "display_data"
    }
   ],
   "source": [
    "plt.imshow(img_test)"
   ]
  },
  {
   "cell_type": "code",
   "execution_count": null,
   "metadata": {},
   "outputs": [],
   "source": []
  }
 ],
 "metadata": {
  "kernelspec": {
   "display_name": "py37",
   "language": "python",
   "name": "py37"
  },
  "language_info": {
   "codemirror_mode": {
    "name": "ipython",
    "version": 3
   },
   "file_extension": ".py",
   "mimetype": "text/x-python",
   "name": "python",
   "nbconvert_exporter": "python",
   "pygments_lexer": "ipython3",
   "version": "3.7.7"
  }
 },
 "nbformat": 4,
 "nbformat_minor": 4
}
